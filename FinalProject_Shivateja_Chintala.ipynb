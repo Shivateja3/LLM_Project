{
  "cells": [
    {
      "cell_type": "markdown",
      "source": [
        "## **Smart Health Guide**"
      ],
      "metadata": {
        "id": "8d43Xi6lKIRB"
      }
    },
    {
      "cell_type": "code",
      "execution_count": 11,
      "metadata": {
        "colab": {
          "base_uri": "https://localhost:8080/"
        },
        "id": "OeAe902f7jhI",
        "outputId": "a6e1290b-c4f3-4e03-838d-13a5d9d48d76"
      },
      "outputs": [
        {
          "output_type": "stream",
          "name": "stdout",
          "text": [
            "Requirement already satisfied: openai in /usr/local/lib/python3.10/dist-packages (1.26.0)\n",
            "Requirement already satisfied: anyio<5,>=3.5.0 in /usr/local/lib/python3.10/dist-packages (from openai) (3.7.1)\n",
            "Requirement already satisfied: distro<2,>=1.7.0 in /usr/lib/python3/dist-packages (from openai) (1.7.0)\n",
            "Requirement already satisfied: httpx<1,>=0.23.0 in /usr/local/lib/python3.10/dist-packages (from openai) (0.27.0)\n",
            "Requirement already satisfied: pydantic<3,>=1.9.0 in /usr/local/lib/python3.10/dist-packages (from openai) (2.7.1)\n",
            "Requirement already satisfied: sniffio in /usr/local/lib/python3.10/dist-packages (from openai) (1.3.1)\n",
            "Requirement already satisfied: tqdm>4 in /usr/local/lib/python3.10/dist-packages (from openai) (4.66.4)\n",
            "Requirement already satisfied: typing-extensions<5,>=4.7 in /usr/local/lib/python3.10/dist-packages (from openai) (4.11.0)\n",
            "Requirement already satisfied: idna>=2.8 in /usr/local/lib/python3.10/dist-packages (from anyio<5,>=3.5.0->openai) (3.7)\n",
            "Requirement already satisfied: exceptiongroup in /usr/local/lib/python3.10/dist-packages (from anyio<5,>=3.5.0->openai) (1.2.1)\n",
            "Requirement already satisfied: certifi in /usr/local/lib/python3.10/dist-packages (from httpx<1,>=0.23.0->openai) (2024.2.2)\n",
            "Requirement already satisfied: httpcore==1.* in /usr/local/lib/python3.10/dist-packages (from httpx<1,>=0.23.0->openai) (1.0.5)\n",
            "Requirement already satisfied: h11<0.15,>=0.13 in /usr/local/lib/python3.10/dist-packages (from httpcore==1.*->httpx<1,>=0.23.0->openai) (0.14.0)\n",
            "Requirement already satisfied: annotated-types>=0.4.0 in /usr/local/lib/python3.10/dist-packages (from pydantic<3,>=1.9.0->openai) (0.6.0)\n",
            "Requirement already satisfied: pydantic-core==2.18.2 in /usr/local/lib/python3.10/dist-packages (from pydantic<3,>=1.9.0->openai) (2.18.2)\n",
            "Requirement already satisfied: langchain in /usr/local/lib/python3.10/dist-packages (0.1.17)\n",
            "Requirement already satisfied: PyYAML>=5.3 in /usr/local/lib/python3.10/dist-packages (from langchain) (6.0.1)\n",
            "Requirement already satisfied: SQLAlchemy<3,>=1.4 in /usr/local/lib/python3.10/dist-packages (from langchain) (2.0.29)\n",
            "Requirement already satisfied: aiohttp<4.0.0,>=3.8.3 in /usr/local/lib/python3.10/dist-packages (from langchain) (3.9.5)\n",
            "Requirement already satisfied: async-timeout<5.0.0,>=4.0.0 in /usr/local/lib/python3.10/dist-packages (from langchain) (4.0.3)\n",
            "Requirement already satisfied: dataclasses-json<0.7,>=0.5.7 in /usr/local/lib/python3.10/dist-packages (from langchain) (0.6.5)\n",
            "Requirement already satisfied: jsonpatch<2.0,>=1.33 in /usr/local/lib/python3.10/dist-packages (from langchain) (1.33)\n",
            "Requirement already satisfied: langchain-community<0.1,>=0.0.36 in /usr/local/lib/python3.10/dist-packages (from langchain) (0.0.37)\n",
            "Requirement already satisfied: langchain-core<0.2.0,>=0.1.48 in /usr/local/lib/python3.10/dist-packages (from langchain) (0.1.52)\n",
            "Requirement already satisfied: langchain-text-splitters<0.1,>=0.0.1 in /usr/local/lib/python3.10/dist-packages (from langchain) (0.0.1)\n",
            "Requirement already satisfied: langsmith<0.2.0,>=0.1.17 in /usr/local/lib/python3.10/dist-packages (from langchain) (0.1.55)\n",
            "Requirement already satisfied: numpy<2,>=1 in /usr/local/lib/python3.10/dist-packages (from langchain) (1.25.2)\n",
            "Requirement already satisfied: pydantic<3,>=1 in /usr/local/lib/python3.10/dist-packages (from langchain) (2.7.1)\n",
            "Requirement already satisfied: requests<3,>=2 in /usr/local/lib/python3.10/dist-packages (from langchain) (2.31.0)\n",
            "Requirement already satisfied: tenacity<9.0.0,>=8.1.0 in /usr/local/lib/python3.10/dist-packages (from langchain) (8.2.3)\n",
            "Requirement already satisfied: aiosignal>=1.1.2 in /usr/local/lib/python3.10/dist-packages (from aiohttp<4.0.0,>=3.8.3->langchain) (1.3.1)\n",
            "Requirement already satisfied: attrs>=17.3.0 in /usr/local/lib/python3.10/dist-packages (from aiohttp<4.0.0,>=3.8.3->langchain) (23.2.0)\n",
            "Requirement already satisfied: frozenlist>=1.1.1 in /usr/local/lib/python3.10/dist-packages (from aiohttp<4.0.0,>=3.8.3->langchain) (1.4.1)\n",
            "Requirement already satisfied: multidict<7.0,>=4.5 in /usr/local/lib/python3.10/dist-packages (from aiohttp<4.0.0,>=3.8.3->langchain) (6.0.5)\n",
            "Requirement already satisfied: yarl<2.0,>=1.0 in /usr/local/lib/python3.10/dist-packages (from aiohttp<4.0.0,>=3.8.3->langchain) (1.9.4)\n",
            "Requirement already satisfied: marshmallow<4.0.0,>=3.18.0 in /usr/local/lib/python3.10/dist-packages (from dataclasses-json<0.7,>=0.5.7->langchain) (3.21.2)\n",
            "Requirement already satisfied: typing-inspect<1,>=0.4.0 in /usr/local/lib/python3.10/dist-packages (from dataclasses-json<0.7,>=0.5.7->langchain) (0.9.0)\n",
            "Requirement already satisfied: jsonpointer>=1.9 in /usr/local/lib/python3.10/dist-packages (from jsonpatch<2.0,>=1.33->langchain) (2.4)\n",
            "Requirement already satisfied: packaging<24.0,>=23.2 in /usr/local/lib/python3.10/dist-packages (from langchain-core<0.2.0,>=0.1.48->langchain) (23.2)\n",
            "Requirement already satisfied: orjson<4.0.0,>=3.9.14 in /usr/local/lib/python3.10/dist-packages (from langsmith<0.2.0,>=0.1.17->langchain) (3.10.3)\n",
            "Requirement already satisfied: annotated-types>=0.4.0 in /usr/local/lib/python3.10/dist-packages (from pydantic<3,>=1->langchain) (0.6.0)\n",
            "Requirement already satisfied: pydantic-core==2.18.2 in /usr/local/lib/python3.10/dist-packages (from pydantic<3,>=1->langchain) (2.18.2)\n",
            "Requirement already satisfied: typing-extensions>=4.6.1 in /usr/local/lib/python3.10/dist-packages (from pydantic<3,>=1->langchain) (4.11.0)\n",
            "Requirement already satisfied: charset-normalizer<4,>=2 in /usr/local/lib/python3.10/dist-packages (from requests<3,>=2->langchain) (3.3.2)\n",
            "Requirement already satisfied: idna<4,>=2.5 in /usr/local/lib/python3.10/dist-packages (from requests<3,>=2->langchain) (3.7)\n",
            "Requirement already satisfied: urllib3<3,>=1.21.1 in /usr/local/lib/python3.10/dist-packages (from requests<3,>=2->langchain) (2.0.7)\n",
            "Requirement already satisfied: certifi>=2017.4.17 in /usr/local/lib/python3.10/dist-packages (from requests<3,>=2->langchain) (2024.2.2)\n",
            "Requirement already satisfied: greenlet!=0.4.17 in /usr/local/lib/python3.10/dist-packages (from SQLAlchemy<3,>=1.4->langchain) (3.0.3)\n",
            "Requirement already satisfied: mypy-extensions>=0.3.0 in /usr/local/lib/python3.10/dist-packages (from typing-inspect<1,>=0.4.0->dataclasses-json<0.7,>=0.5.7->langchain) (1.0.0)\n",
            "Requirement already satisfied: openai in /usr/local/lib/python3.10/dist-packages (1.26.0)\n",
            "Requirement already satisfied: anyio<5,>=3.5.0 in /usr/local/lib/python3.10/dist-packages (from openai) (3.7.1)\n",
            "Requirement already satisfied: distro<2,>=1.7.0 in /usr/lib/python3/dist-packages (from openai) (1.7.0)\n",
            "Requirement already satisfied: httpx<1,>=0.23.0 in /usr/local/lib/python3.10/dist-packages (from openai) (0.27.0)\n",
            "Requirement already satisfied: pydantic<3,>=1.9.0 in /usr/local/lib/python3.10/dist-packages (from openai) (2.7.1)\n",
            "Requirement already satisfied: sniffio in /usr/local/lib/python3.10/dist-packages (from openai) (1.3.1)\n",
            "Requirement already satisfied: tqdm>4 in /usr/local/lib/python3.10/dist-packages (from openai) (4.66.4)\n",
            "Requirement already satisfied: typing-extensions<5,>=4.7 in /usr/local/lib/python3.10/dist-packages (from openai) (4.11.0)\n",
            "Requirement already satisfied: idna>=2.8 in /usr/local/lib/python3.10/dist-packages (from anyio<5,>=3.5.0->openai) (3.7)\n",
            "Requirement already satisfied: exceptiongroup in /usr/local/lib/python3.10/dist-packages (from anyio<5,>=3.5.0->openai) (1.2.1)\n",
            "Requirement already satisfied: certifi in /usr/local/lib/python3.10/dist-packages (from httpx<1,>=0.23.0->openai) (2024.2.2)\n",
            "Requirement already satisfied: httpcore==1.* in /usr/local/lib/python3.10/dist-packages (from httpx<1,>=0.23.0->openai) (1.0.5)\n",
            "Requirement already satisfied: h11<0.15,>=0.13 in /usr/local/lib/python3.10/dist-packages (from httpcore==1.*->httpx<1,>=0.23.0->openai) (0.14.0)\n",
            "Requirement already satisfied: annotated-types>=0.4.0 in /usr/local/lib/python3.10/dist-packages (from pydantic<3,>=1.9.0->openai) (0.6.0)\n",
            "Requirement already satisfied: pydantic-core==2.18.2 in /usr/local/lib/python3.10/dist-packages (from pydantic<3,>=1.9.0->openai) (2.18.2)\n",
            "Requirement already satisfied: langchain in /usr/local/lib/python3.10/dist-packages (0.1.17)\n",
            "Requirement already satisfied: PyYAML>=5.3 in /usr/local/lib/python3.10/dist-packages (from langchain) (6.0.1)\n",
            "Requirement already satisfied: SQLAlchemy<3,>=1.4 in /usr/local/lib/python3.10/dist-packages (from langchain) (2.0.29)\n",
            "Requirement already satisfied: aiohttp<4.0.0,>=3.8.3 in /usr/local/lib/python3.10/dist-packages (from langchain) (3.9.5)\n",
            "Requirement already satisfied: async-timeout<5.0.0,>=4.0.0 in /usr/local/lib/python3.10/dist-packages (from langchain) (4.0.3)\n",
            "Requirement already satisfied: dataclasses-json<0.7,>=0.5.7 in /usr/local/lib/python3.10/dist-packages (from langchain) (0.6.5)\n",
            "Requirement already satisfied: jsonpatch<2.0,>=1.33 in /usr/local/lib/python3.10/dist-packages (from langchain) (1.33)\n",
            "Requirement already satisfied: langchain-community<0.1,>=0.0.36 in /usr/local/lib/python3.10/dist-packages (from langchain) (0.0.37)\n",
            "Requirement already satisfied: langchain-core<0.2.0,>=0.1.48 in /usr/local/lib/python3.10/dist-packages (from langchain) (0.1.52)\n",
            "Requirement already satisfied: langchain-text-splitters<0.1,>=0.0.1 in /usr/local/lib/python3.10/dist-packages (from langchain) (0.0.1)\n",
            "Requirement already satisfied: langsmith<0.2.0,>=0.1.17 in /usr/local/lib/python3.10/dist-packages (from langchain) (0.1.55)\n",
            "Requirement already satisfied: numpy<2,>=1 in /usr/local/lib/python3.10/dist-packages (from langchain) (1.25.2)\n",
            "Requirement already satisfied: pydantic<3,>=1 in /usr/local/lib/python3.10/dist-packages (from langchain) (2.7.1)\n",
            "Requirement already satisfied: requests<3,>=2 in /usr/local/lib/python3.10/dist-packages (from langchain) (2.31.0)\n",
            "Requirement already satisfied: tenacity<9.0.0,>=8.1.0 in /usr/local/lib/python3.10/dist-packages (from langchain) (8.2.3)\n",
            "Requirement already satisfied: aiosignal>=1.1.2 in /usr/local/lib/python3.10/dist-packages (from aiohttp<4.0.0,>=3.8.3->langchain) (1.3.1)\n",
            "Requirement already satisfied: attrs>=17.3.0 in /usr/local/lib/python3.10/dist-packages (from aiohttp<4.0.0,>=3.8.3->langchain) (23.2.0)\n",
            "Requirement already satisfied: frozenlist>=1.1.1 in /usr/local/lib/python3.10/dist-packages (from aiohttp<4.0.0,>=3.8.3->langchain) (1.4.1)\n",
            "Requirement already satisfied: multidict<7.0,>=4.5 in /usr/local/lib/python3.10/dist-packages (from aiohttp<4.0.0,>=3.8.3->langchain) (6.0.5)\n",
            "Requirement already satisfied: yarl<2.0,>=1.0 in /usr/local/lib/python3.10/dist-packages (from aiohttp<4.0.0,>=3.8.3->langchain) (1.9.4)\n",
            "Requirement already satisfied: marshmallow<4.0.0,>=3.18.0 in /usr/local/lib/python3.10/dist-packages (from dataclasses-json<0.7,>=0.5.7->langchain) (3.21.2)\n",
            "Requirement already satisfied: typing-inspect<1,>=0.4.0 in /usr/local/lib/python3.10/dist-packages (from dataclasses-json<0.7,>=0.5.7->langchain) (0.9.0)\n",
            "Requirement already satisfied: jsonpointer>=1.9 in /usr/local/lib/python3.10/dist-packages (from jsonpatch<2.0,>=1.33->langchain) (2.4)\n",
            "Requirement already satisfied: packaging<24.0,>=23.2 in /usr/local/lib/python3.10/dist-packages (from langchain-core<0.2.0,>=0.1.48->langchain) (23.2)\n",
            "Requirement already satisfied: orjson<4.0.0,>=3.9.14 in /usr/local/lib/python3.10/dist-packages (from langsmith<0.2.0,>=0.1.17->langchain) (3.10.3)\n",
            "Requirement already satisfied: annotated-types>=0.4.0 in /usr/local/lib/python3.10/dist-packages (from pydantic<3,>=1->langchain) (0.6.0)\n",
            "Requirement already satisfied: pydantic-core==2.18.2 in /usr/local/lib/python3.10/dist-packages (from pydantic<3,>=1->langchain) (2.18.2)\n",
            "Requirement already satisfied: typing-extensions>=4.6.1 in /usr/local/lib/python3.10/dist-packages (from pydantic<3,>=1->langchain) (4.11.0)\n",
            "Requirement already satisfied: charset-normalizer<4,>=2 in /usr/local/lib/python3.10/dist-packages (from requests<3,>=2->langchain) (3.3.2)\n",
            "Requirement already satisfied: idna<4,>=2.5 in /usr/local/lib/python3.10/dist-packages (from requests<3,>=2->langchain) (3.7)\n",
            "Requirement already satisfied: urllib3<3,>=1.21.1 in /usr/local/lib/python3.10/dist-packages (from requests<3,>=2->langchain) (2.0.7)\n",
            "Requirement already satisfied: certifi>=2017.4.17 in /usr/local/lib/python3.10/dist-packages (from requests<3,>=2->langchain) (2024.2.2)\n",
            "Requirement already satisfied: greenlet!=0.4.17 in /usr/local/lib/python3.10/dist-packages (from SQLAlchemy<3,>=1.4->langchain) (3.0.3)\n",
            "Requirement already satisfied: mypy-extensions>=0.3.0 in /usr/local/lib/python3.10/dist-packages (from typing-inspect<1,>=0.4.0->dataclasses-json<0.7,>=0.5.7->langchain) (1.0.0)\n"
          ]
        }
      ],
      "source": [
        "!pip install openai\n",
        "!pip install langchain"
      ]
    },
    {
      "cell_type": "code",
      "execution_count": 12,
      "metadata": {
        "id": "dis54R7f7kD3"
      },
      "outputs": [],
      "source": [
        "!pip -q install langchain tiktoken duckduckgo-search"
      ]
    },
    {
      "cell_type": "code",
      "execution_count": 13,
      "metadata": {
        "colab": {
          "base_uri": "https://localhost:8080/"
        },
        "id": "EFuOWSc7JkqP",
        "outputId": "1ab936a4-434b-4fd7-d6e9-b1952bb52b30"
      },
      "outputs": [
        {
          "output_type": "stream",
          "name": "stdout",
          "text": [
            "Requirement already satisfied: gradio in /usr/local/lib/python3.10/dist-packages (4.29.0)\n",
            "Requirement already satisfied: aiofiles<24.0,>=22.0 in /usr/local/lib/python3.10/dist-packages (from gradio) (23.2.1)\n",
            "Requirement already satisfied: altair<6.0,>=4.2.0 in /usr/local/lib/python3.10/dist-packages (from gradio) (4.2.2)\n",
            "Requirement already satisfied: fastapi in /usr/local/lib/python3.10/dist-packages (from gradio) (0.111.0)\n",
            "Requirement already satisfied: ffmpy in /usr/local/lib/python3.10/dist-packages (from gradio) (0.3.2)\n",
            "Requirement already satisfied: gradio-client==0.16.1 in /usr/local/lib/python3.10/dist-packages (from gradio) (0.16.1)\n",
            "Requirement already satisfied: httpx>=0.24.1 in /usr/local/lib/python3.10/dist-packages (from gradio) (0.27.0)\n",
            "Requirement already satisfied: huggingface-hub>=0.19.3 in /usr/local/lib/python3.10/dist-packages (from gradio) (0.20.3)\n",
            "Requirement already satisfied: importlib-resources<7.0,>=1.3 in /usr/local/lib/python3.10/dist-packages (from gradio) (6.4.0)\n",
            "Requirement already satisfied: jinja2<4.0 in /usr/local/lib/python3.10/dist-packages (from gradio) (3.1.3)\n",
            "Requirement already satisfied: markupsafe~=2.0 in /usr/local/lib/python3.10/dist-packages (from gradio) (2.1.5)\n",
            "Requirement already satisfied: matplotlib~=3.0 in /usr/local/lib/python3.10/dist-packages (from gradio) (3.7.1)\n",
            "Requirement already satisfied: numpy~=1.0 in /usr/local/lib/python3.10/dist-packages (from gradio) (1.25.2)\n",
            "Requirement already satisfied: orjson~=3.0 in /usr/local/lib/python3.10/dist-packages (from gradio) (3.10.3)\n",
            "Requirement already satisfied: packaging in /usr/local/lib/python3.10/dist-packages (from gradio) (23.2)\n",
            "Requirement already satisfied: pandas<3.0,>=1.0 in /usr/local/lib/python3.10/dist-packages (from gradio) (2.0.3)\n",
            "Requirement already satisfied: pillow<11.0,>=8.0 in /usr/local/lib/python3.10/dist-packages (from gradio) (9.4.0)\n",
            "Requirement already satisfied: pydantic>=2.0 in /usr/local/lib/python3.10/dist-packages (from gradio) (2.7.1)\n",
            "Requirement already satisfied: pydub in /usr/local/lib/python3.10/dist-packages (from gradio) (0.25.1)\n",
            "Requirement already satisfied: python-multipart>=0.0.9 in /usr/local/lib/python3.10/dist-packages (from gradio) (0.0.9)\n",
            "Requirement already satisfied: pyyaml<7.0,>=5.0 in /usr/local/lib/python3.10/dist-packages (from gradio) (6.0.1)\n",
            "Requirement already satisfied: ruff>=0.2.2 in /usr/local/lib/python3.10/dist-packages (from gradio) (0.4.3)\n",
            "Requirement already satisfied: semantic-version~=2.0 in /usr/local/lib/python3.10/dist-packages (from gradio) (2.10.0)\n",
            "Requirement already satisfied: tomlkit==0.12.0 in /usr/local/lib/python3.10/dist-packages (from gradio) (0.12.0)\n",
            "Requirement already satisfied: typer<1.0,>=0.12 in /usr/local/lib/python3.10/dist-packages (from gradio) (0.12.3)\n",
            "Requirement already satisfied: typing-extensions~=4.0 in /usr/local/lib/python3.10/dist-packages (from gradio) (4.11.0)\n",
            "Requirement already satisfied: urllib3~=2.0 in /usr/local/lib/python3.10/dist-packages (from gradio) (2.0.7)\n",
            "Requirement already satisfied: uvicorn>=0.14.0 in /usr/local/lib/python3.10/dist-packages (from gradio) (0.29.0)\n",
            "Requirement already satisfied: fsspec in /usr/local/lib/python3.10/dist-packages (from gradio-client==0.16.1->gradio) (2023.6.0)\n",
            "Requirement already satisfied: websockets<12.0,>=10.0 in /usr/local/lib/python3.10/dist-packages (from gradio-client==0.16.1->gradio) (11.0.3)\n",
            "Requirement already satisfied: entrypoints in /usr/local/lib/python3.10/dist-packages (from altair<6.0,>=4.2.0->gradio) (0.4)\n",
            "Requirement already satisfied: jsonschema>=3.0 in /usr/local/lib/python3.10/dist-packages (from altair<6.0,>=4.2.0->gradio) (4.19.2)\n",
            "Requirement already satisfied: toolz in /usr/local/lib/python3.10/dist-packages (from altair<6.0,>=4.2.0->gradio) (0.12.1)\n",
            "Requirement already satisfied: anyio in /usr/local/lib/python3.10/dist-packages (from httpx>=0.24.1->gradio) (3.7.1)\n",
            "Requirement already satisfied: certifi in /usr/local/lib/python3.10/dist-packages (from httpx>=0.24.1->gradio) (2024.2.2)\n",
            "Requirement already satisfied: httpcore==1.* in /usr/local/lib/python3.10/dist-packages (from httpx>=0.24.1->gradio) (1.0.5)\n",
            "Requirement already satisfied: idna in /usr/local/lib/python3.10/dist-packages (from httpx>=0.24.1->gradio) (3.7)\n",
            "Requirement already satisfied: sniffio in /usr/local/lib/python3.10/dist-packages (from httpx>=0.24.1->gradio) (1.3.1)\n",
            "Requirement already satisfied: h11<0.15,>=0.13 in /usr/local/lib/python3.10/dist-packages (from httpcore==1.*->httpx>=0.24.1->gradio) (0.14.0)\n",
            "Requirement already satisfied: filelock in /usr/local/lib/python3.10/dist-packages (from huggingface-hub>=0.19.3->gradio) (3.14.0)\n",
            "Requirement already satisfied: requests in /usr/local/lib/python3.10/dist-packages (from huggingface-hub>=0.19.3->gradio) (2.31.0)\n",
            "Requirement already satisfied: tqdm>=4.42.1 in /usr/local/lib/python3.10/dist-packages (from huggingface-hub>=0.19.3->gradio) (4.66.4)\n",
            "Requirement already satisfied: contourpy>=1.0.1 in /usr/local/lib/python3.10/dist-packages (from matplotlib~=3.0->gradio) (1.2.1)\n",
            "Requirement already satisfied: cycler>=0.10 in /usr/local/lib/python3.10/dist-packages (from matplotlib~=3.0->gradio) (0.12.1)\n",
            "Requirement already satisfied: fonttools>=4.22.0 in /usr/local/lib/python3.10/dist-packages (from matplotlib~=3.0->gradio) (4.51.0)\n",
            "Requirement already satisfied: kiwisolver>=1.0.1 in /usr/local/lib/python3.10/dist-packages (from matplotlib~=3.0->gradio) (1.4.5)\n",
            "Requirement already satisfied: pyparsing>=2.3.1 in /usr/local/lib/python3.10/dist-packages (from matplotlib~=3.0->gradio) (3.1.2)\n",
            "Requirement already satisfied: python-dateutil>=2.7 in /usr/local/lib/python3.10/dist-packages (from matplotlib~=3.0->gradio) (2.8.2)\n",
            "Requirement already satisfied: pytz>=2020.1 in /usr/local/lib/python3.10/dist-packages (from pandas<3.0,>=1.0->gradio) (2023.4)\n",
            "Requirement already satisfied: tzdata>=2022.1 in /usr/local/lib/python3.10/dist-packages (from pandas<3.0,>=1.0->gradio) (2024.1)\n",
            "Requirement already satisfied: annotated-types>=0.4.0 in /usr/local/lib/python3.10/dist-packages (from pydantic>=2.0->gradio) (0.6.0)\n",
            "Requirement already satisfied: pydantic-core==2.18.2 in /usr/local/lib/python3.10/dist-packages (from pydantic>=2.0->gradio) (2.18.2)\n",
            "Requirement already satisfied: click>=8.0.0 in /usr/local/lib/python3.10/dist-packages (from typer<1.0,>=0.12->gradio) (8.1.7)\n",
            "Requirement already satisfied: shellingham>=1.3.0 in /usr/local/lib/python3.10/dist-packages (from typer<1.0,>=0.12->gradio) (1.5.4)\n",
            "Requirement already satisfied: rich>=10.11.0 in /usr/local/lib/python3.10/dist-packages (from typer<1.0,>=0.12->gradio) (13.7.1)\n",
            "Requirement already satisfied: starlette<0.38.0,>=0.37.2 in /usr/local/lib/python3.10/dist-packages (from fastapi->gradio) (0.37.2)\n",
            "Requirement already satisfied: fastapi-cli>=0.0.2 in /usr/local/lib/python3.10/dist-packages (from fastapi->gradio) (0.0.3)\n",
            "Requirement already satisfied: ujson!=4.0.2,!=4.1.0,!=4.2.0,!=4.3.0,!=5.0.0,!=5.1.0,>=4.0.1 in /usr/local/lib/python3.10/dist-packages (from fastapi->gradio) (5.9.0)\n",
            "Requirement already satisfied: email_validator>=2.0.0 in /usr/local/lib/python3.10/dist-packages (from fastapi->gradio) (2.1.1)\n",
            "Requirement already satisfied: dnspython>=2.0.0 in /usr/local/lib/python3.10/dist-packages (from email_validator>=2.0.0->fastapi->gradio) (2.6.1)\n",
            "Requirement already satisfied: attrs>=22.2.0 in /usr/local/lib/python3.10/dist-packages (from jsonschema>=3.0->altair<6.0,>=4.2.0->gradio) (23.2.0)\n",
            "Requirement already satisfied: jsonschema-specifications>=2023.03.6 in /usr/local/lib/python3.10/dist-packages (from jsonschema>=3.0->altair<6.0,>=4.2.0->gradio) (2023.12.1)\n",
            "Requirement already satisfied: referencing>=0.28.4 in /usr/local/lib/python3.10/dist-packages (from jsonschema>=3.0->altair<6.0,>=4.2.0->gradio) (0.35.1)\n",
            "Requirement already satisfied: rpds-py>=0.7.1 in /usr/local/lib/python3.10/dist-packages (from jsonschema>=3.0->altair<6.0,>=4.2.0->gradio) (0.18.0)\n",
            "Requirement already satisfied: six>=1.5 in /usr/local/lib/python3.10/dist-packages (from python-dateutil>=2.7->matplotlib~=3.0->gradio) (1.16.0)\n",
            "Requirement already satisfied: markdown-it-py>=2.2.0 in /usr/local/lib/python3.10/dist-packages (from rich>=10.11.0->typer<1.0,>=0.12->gradio) (3.0.0)\n",
            "Requirement already satisfied: pygments<3.0.0,>=2.13.0 in /usr/local/lib/python3.10/dist-packages (from rich>=10.11.0->typer<1.0,>=0.12->gradio) (2.16.1)\n",
            "Requirement already satisfied: exceptiongroup in /usr/local/lib/python3.10/dist-packages (from anyio->httpx>=0.24.1->gradio) (1.2.1)\n",
            "Requirement already satisfied: httptools>=0.5.0 in /usr/local/lib/python3.10/dist-packages (from uvicorn>=0.14.0->gradio) (0.6.1)\n",
            "Requirement already satisfied: python-dotenv>=0.13 in /usr/local/lib/python3.10/dist-packages (from uvicorn>=0.14.0->gradio) (1.0.1)\n",
            "Requirement already satisfied: uvloop!=0.15.0,!=0.15.1,>=0.14.0 in /usr/local/lib/python3.10/dist-packages (from uvicorn>=0.14.0->gradio) (0.19.0)\n",
            "Requirement already satisfied: watchfiles>=0.13 in /usr/local/lib/python3.10/dist-packages (from uvicorn>=0.14.0->gradio) (0.21.0)\n",
            "Requirement already satisfied: charset-normalizer<4,>=2 in /usr/local/lib/python3.10/dist-packages (from requests->huggingface-hub>=0.19.3->gradio) (3.3.2)\n",
            "Requirement already satisfied: mdurl~=0.1 in /usr/local/lib/python3.10/dist-packages (from markdown-it-py>=2.2.0->rich>=10.11.0->typer<1.0,>=0.12->gradio) (0.1.2)\n",
            "Requirement already satisfied: gradio in /usr/local/lib/python3.10/dist-packages (4.29.0)\n",
            "Requirement already satisfied: aiofiles<24.0,>=22.0 in /usr/local/lib/python3.10/dist-packages (from gradio) (23.2.1)\n",
            "Requirement already satisfied: altair<6.0,>=4.2.0 in /usr/local/lib/python3.10/dist-packages (from gradio) (4.2.2)\n",
            "Requirement already satisfied: fastapi in /usr/local/lib/python3.10/dist-packages (from gradio) (0.111.0)\n",
            "Requirement already satisfied: ffmpy in /usr/local/lib/python3.10/dist-packages (from gradio) (0.3.2)\n",
            "Requirement already satisfied: gradio-client==0.16.1 in /usr/local/lib/python3.10/dist-packages (from gradio) (0.16.1)\n",
            "Requirement already satisfied: httpx>=0.24.1 in /usr/local/lib/python3.10/dist-packages (from gradio) (0.27.0)\n",
            "Requirement already satisfied: huggingface-hub>=0.19.3 in /usr/local/lib/python3.10/dist-packages (from gradio) (0.20.3)\n",
            "Requirement already satisfied: importlib-resources<7.0,>=1.3 in /usr/local/lib/python3.10/dist-packages (from gradio) (6.4.0)\n",
            "Requirement already satisfied: jinja2<4.0 in /usr/local/lib/python3.10/dist-packages (from gradio) (3.1.3)\n",
            "Requirement already satisfied: markupsafe~=2.0 in /usr/local/lib/python3.10/dist-packages (from gradio) (2.1.5)\n",
            "Requirement already satisfied: matplotlib~=3.0 in /usr/local/lib/python3.10/dist-packages (from gradio) (3.7.1)\n",
            "Requirement already satisfied: numpy~=1.0 in /usr/local/lib/python3.10/dist-packages (from gradio) (1.25.2)\n",
            "Requirement already satisfied: orjson~=3.0 in /usr/local/lib/python3.10/dist-packages (from gradio) (3.10.3)\n",
            "Requirement already satisfied: packaging in /usr/local/lib/python3.10/dist-packages (from gradio) (23.2)\n",
            "Requirement already satisfied: pandas<3.0,>=1.0 in /usr/local/lib/python3.10/dist-packages (from gradio) (2.0.3)\n",
            "Requirement already satisfied: pillow<11.0,>=8.0 in /usr/local/lib/python3.10/dist-packages (from gradio) (9.4.0)\n",
            "Requirement already satisfied: pydantic>=2.0 in /usr/local/lib/python3.10/dist-packages (from gradio) (2.7.1)\n",
            "Requirement already satisfied: pydub in /usr/local/lib/python3.10/dist-packages (from gradio) (0.25.1)\n",
            "Requirement already satisfied: python-multipart>=0.0.9 in /usr/local/lib/python3.10/dist-packages (from gradio) (0.0.9)\n",
            "Requirement already satisfied: pyyaml<7.0,>=5.0 in /usr/local/lib/python3.10/dist-packages (from gradio) (6.0.1)\n",
            "Requirement already satisfied: ruff>=0.2.2 in /usr/local/lib/python3.10/dist-packages (from gradio) (0.4.3)\n",
            "Requirement already satisfied: semantic-version~=2.0 in /usr/local/lib/python3.10/dist-packages (from gradio) (2.10.0)\n",
            "Requirement already satisfied: tomlkit==0.12.0 in /usr/local/lib/python3.10/dist-packages (from gradio) (0.12.0)\n",
            "Requirement already satisfied: typer<1.0,>=0.12 in /usr/local/lib/python3.10/dist-packages (from gradio) (0.12.3)\n",
            "Requirement already satisfied: typing-extensions~=4.0 in /usr/local/lib/python3.10/dist-packages (from gradio) (4.11.0)\n",
            "Requirement already satisfied: urllib3~=2.0 in /usr/local/lib/python3.10/dist-packages (from gradio) (2.0.7)\n",
            "Requirement already satisfied: uvicorn>=0.14.0 in /usr/local/lib/python3.10/dist-packages (from gradio) (0.29.0)\n",
            "Requirement already satisfied: fsspec in /usr/local/lib/python3.10/dist-packages (from gradio-client==0.16.1->gradio) (2023.6.0)\n",
            "Requirement already satisfied: websockets<12.0,>=10.0 in /usr/local/lib/python3.10/dist-packages (from gradio-client==0.16.1->gradio) (11.0.3)\n",
            "Requirement already satisfied: entrypoints in /usr/local/lib/python3.10/dist-packages (from altair<6.0,>=4.2.0->gradio) (0.4)\n",
            "Requirement already satisfied: jsonschema>=3.0 in /usr/local/lib/python3.10/dist-packages (from altair<6.0,>=4.2.0->gradio) (4.19.2)\n",
            "Requirement already satisfied: toolz in /usr/local/lib/python3.10/dist-packages (from altair<6.0,>=4.2.0->gradio) (0.12.1)\n",
            "Requirement already satisfied: anyio in /usr/local/lib/python3.10/dist-packages (from httpx>=0.24.1->gradio) (3.7.1)\n",
            "Requirement already satisfied: certifi in /usr/local/lib/python3.10/dist-packages (from httpx>=0.24.1->gradio) (2024.2.2)\n",
            "Requirement already satisfied: httpcore==1.* in /usr/local/lib/python3.10/dist-packages (from httpx>=0.24.1->gradio) (1.0.5)\n",
            "Requirement already satisfied: idna in /usr/local/lib/python3.10/dist-packages (from httpx>=0.24.1->gradio) (3.7)\n",
            "Requirement already satisfied: sniffio in /usr/local/lib/python3.10/dist-packages (from httpx>=0.24.1->gradio) (1.3.1)\n",
            "Requirement already satisfied: h11<0.15,>=0.13 in /usr/local/lib/python3.10/dist-packages (from httpcore==1.*->httpx>=0.24.1->gradio) (0.14.0)\n",
            "Requirement already satisfied: filelock in /usr/local/lib/python3.10/dist-packages (from huggingface-hub>=0.19.3->gradio) (3.14.0)\n",
            "Requirement already satisfied: requests in /usr/local/lib/python3.10/dist-packages (from huggingface-hub>=0.19.3->gradio) (2.31.0)\n",
            "Requirement already satisfied: tqdm>=4.42.1 in /usr/local/lib/python3.10/dist-packages (from huggingface-hub>=0.19.3->gradio) (4.66.4)\n",
            "Requirement already satisfied: contourpy>=1.0.1 in /usr/local/lib/python3.10/dist-packages (from matplotlib~=3.0->gradio) (1.2.1)\n",
            "Requirement already satisfied: cycler>=0.10 in /usr/local/lib/python3.10/dist-packages (from matplotlib~=3.0->gradio) (0.12.1)\n",
            "Requirement already satisfied: fonttools>=4.22.0 in /usr/local/lib/python3.10/dist-packages (from matplotlib~=3.0->gradio) (4.51.0)\n",
            "Requirement already satisfied: kiwisolver>=1.0.1 in /usr/local/lib/python3.10/dist-packages (from matplotlib~=3.0->gradio) (1.4.5)\n",
            "Requirement already satisfied: pyparsing>=2.3.1 in /usr/local/lib/python3.10/dist-packages (from matplotlib~=3.0->gradio) (3.1.2)\n",
            "Requirement already satisfied: python-dateutil>=2.7 in /usr/local/lib/python3.10/dist-packages (from matplotlib~=3.0->gradio) (2.8.2)\n",
            "Requirement already satisfied: pytz>=2020.1 in /usr/local/lib/python3.10/dist-packages (from pandas<3.0,>=1.0->gradio) (2023.4)\n",
            "Requirement already satisfied: tzdata>=2022.1 in /usr/local/lib/python3.10/dist-packages (from pandas<3.0,>=1.0->gradio) (2024.1)\n",
            "Requirement already satisfied: annotated-types>=0.4.0 in /usr/local/lib/python3.10/dist-packages (from pydantic>=2.0->gradio) (0.6.0)\n",
            "Requirement already satisfied: pydantic-core==2.18.2 in /usr/local/lib/python3.10/dist-packages (from pydantic>=2.0->gradio) (2.18.2)\n",
            "Requirement already satisfied: click>=8.0.0 in /usr/local/lib/python3.10/dist-packages (from typer<1.0,>=0.12->gradio) (8.1.7)\n",
            "Requirement already satisfied: shellingham>=1.3.0 in /usr/local/lib/python3.10/dist-packages (from typer<1.0,>=0.12->gradio) (1.5.4)\n",
            "Requirement already satisfied: rich>=10.11.0 in /usr/local/lib/python3.10/dist-packages (from typer<1.0,>=0.12->gradio) (13.7.1)\n",
            "Requirement already satisfied: starlette<0.38.0,>=0.37.2 in /usr/local/lib/python3.10/dist-packages (from fastapi->gradio) (0.37.2)\n",
            "Requirement already satisfied: fastapi-cli>=0.0.2 in /usr/local/lib/python3.10/dist-packages (from fastapi->gradio) (0.0.3)\n",
            "Requirement already satisfied: ujson!=4.0.2,!=4.1.0,!=4.2.0,!=4.3.0,!=5.0.0,!=5.1.0,>=4.0.1 in /usr/local/lib/python3.10/dist-packages (from fastapi->gradio) (5.9.0)\n",
            "Requirement already satisfied: email_validator>=2.0.0 in /usr/local/lib/python3.10/dist-packages (from fastapi->gradio) (2.1.1)\n",
            "Requirement already satisfied: dnspython>=2.0.0 in /usr/local/lib/python3.10/dist-packages (from email_validator>=2.0.0->fastapi->gradio) (2.6.1)\n",
            "Requirement already satisfied: attrs>=22.2.0 in /usr/local/lib/python3.10/dist-packages (from jsonschema>=3.0->altair<6.0,>=4.2.0->gradio) (23.2.0)\n",
            "Requirement already satisfied: jsonschema-specifications>=2023.03.6 in /usr/local/lib/python3.10/dist-packages (from jsonschema>=3.0->altair<6.0,>=4.2.0->gradio) (2023.12.1)\n",
            "Requirement already satisfied: referencing>=0.28.4 in /usr/local/lib/python3.10/dist-packages (from jsonschema>=3.0->altair<6.0,>=4.2.0->gradio) (0.35.1)\n",
            "Requirement already satisfied: rpds-py>=0.7.1 in /usr/local/lib/python3.10/dist-packages (from jsonschema>=3.0->altair<6.0,>=4.2.0->gradio) (0.18.0)\n",
            "Requirement already satisfied: six>=1.5 in /usr/local/lib/python3.10/dist-packages (from python-dateutil>=2.7->matplotlib~=3.0->gradio) (1.16.0)\n",
            "Requirement already satisfied: markdown-it-py>=2.2.0 in /usr/local/lib/python3.10/dist-packages (from rich>=10.11.0->typer<1.0,>=0.12->gradio) (3.0.0)\n",
            "Requirement already satisfied: pygments<3.0.0,>=2.13.0 in /usr/local/lib/python3.10/dist-packages (from rich>=10.11.0->typer<1.0,>=0.12->gradio) (2.16.1)\n",
            "Requirement already satisfied: exceptiongroup in /usr/local/lib/python3.10/dist-packages (from anyio->httpx>=0.24.1->gradio) (1.2.1)\n",
            "Requirement already satisfied: httptools>=0.5.0 in /usr/local/lib/python3.10/dist-packages (from uvicorn>=0.14.0->gradio) (0.6.1)\n",
            "Requirement already satisfied: python-dotenv>=0.13 in /usr/local/lib/python3.10/dist-packages (from uvicorn>=0.14.0->gradio) (1.0.1)\n",
            "Requirement already satisfied: uvloop!=0.15.0,!=0.15.1,>=0.14.0 in /usr/local/lib/python3.10/dist-packages (from uvicorn>=0.14.0->gradio) (0.19.0)\n",
            "Requirement already satisfied: watchfiles>=0.13 in /usr/local/lib/python3.10/dist-packages (from uvicorn>=0.14.0->gradio) (0.21.0)\n",
            "Requirement already satisfied: charset-normalizer<4,>=2 in /usr/local/lib/python3.10/dist-packages (from requests->huggingface-hub>=0.19.3->gradio) (3.3.2)\n",
            "Requirement already satisfied: mdurl~=0.1 in /usr/local/lib/python3.10/dist-packages (from markdown-it-py>=2.2.0->rich>=10.11.0->typer<1.0,>=0.12->gradio) (0.1.2)\n"
          ]
        }
      ],
      "source": [
        "!pip install gradio"
      ]
    },
    {
      "cell_type": "code",
      "execution_count": 14,
      "metadata": {
        "id": "2SyZJ5FTLqS9"
      },
      "outputs": [],
      "source": [
        "import gradio as gr\n",
        "from langchain.agents import Tool, AgentExecutor, LLMSingleActionAgent, AgentOutputParser\n",
        "from langchain.prompts import StringPromptTemplate\n",
        "from langchain import OpenAI, LLMChain\n",
        "from langchain.tools import DuckDuckGoSearchRun\n",
        "from langchain.memory import ConversationBufferWindowMemory\n",
        "from typing import List, Union\n",
        "from langchain.schema import AgentAction, AgentFinish\n",
        "import re\n",
        "import os\n",
        "\n",
        "os.environ[\"OPENAI_API_KEY\"] = \"sk-proj-Sg97wUMr2h0jvgqgBCP4T3BlbkFJoM1vtOPaila3KK4QY0Iq\""
      ]
    },
    {
      "cell_type": "markdown",
      "source": [
        "The code below initializes a DuckDuckGo search tool named \"General Health Search,\" which leverages DuckDuckGo's search functionality to respond to health-related questions. The tool is designed to provide up-to-date medical information and answer general health queries."
      ],
      "metadata": {
        "id": "YAZgBqAydheq"
      }
    },
    {
      "cell_type": "code",
      "execution_count": 15,
      "metadata": {
        "id": "4SV4KeGDNWqC"
      },
      "outputs": [],
      "source": [
        "# Defining the tools for the Smart Health Guide\n",
        "search = DuckDuckGoSearchRun()\n",
        "tools = [\n",
        "    Tool(\n",
        "        name=\"General Health Search\",\n",
        "        func=search.run,\n",
        "        description=\"Use this tool to search general health questions and recent medical information.\"\n",
        "    )\n",
        "]"
      ]
    },
    {
      "cell_type": "markdown",
      "source": [
        "Defining a custom prompt template class for agents, enabling the dynamic construction of prompts with relevant information. It formats input by incorporating a scratchpad of previous agent actions and tool observations, along with listing available tools and their descriptions. This structured prompt supports more effective decision-making in agents, providing them with a detailed context for processing tasks."
      ],
      "metadata": {
        "id": "QPrC7d8LdwlO"
      }
    },
    {
      "cell_type": "code",
      "execution_count": 16,
      "metadata": {
        "id": "R5-HtfyicCnR"
      },
      "outputs": [],
      "source": [
        "# Implementing a Custom Prompt Template class\n",
        "class CustomPromptTemplate(StringPromptTemplate):\n",
        "    template: str\n",
        "    tools: List[Tool]\n",
        "\n",
        "    def format(self, **kwargs) -> str:\n",
        "        intermediate_steps = kwargs.pop(\"intermediate_steps\")\n",
        "        thoughts = \"\"\n",
        "        for action, observation in intermediate_steps:\n",
        "            thoughts += action.log\n",
        "            thoughts += f\"\\nObservation: {observation}\\nThought: \"\n",
        "        kwargs[\"agent_scratchpad\"] = thoughts\n",
        "        kwargs[\"tools\"] = \"\\n\".join([f\"{tool.name}: {tool.description}\" for tool in self.tools])\n",
        "        kwargs[\"tool_names\"] = \", \".join([tool.name for tool in self.tools])\n",
        "        return self.template.format(**kwargs)"
      ]
    },
    {
      "cell_type": "markdown",
      "source": [
        "The below cell provides a structured template for a health guide agent to follow when processing user inquiries, listing available tools and guiding the agent step-by-step to generate a comprehensive and empathetic response."
      ],
      "metadata": {
        "id": "XTlspfHDeDRt"
      }
    },
    {
      "cell_type": "code",
      "execution_count": 17,
      "metadata": {
        "id": "HbUsODRFcCnR"
      },
      "outputs": [],
      "source": [
        "# Prompt Template\n",
        "template = \"\"\"As a knowledgeable Smart Health Guide, respond empathetically to the user's health concerns. The available tools are:\n",
        "\n",
        "{tools}\n",
        "\n",
        "Use this structure:\n",
        "\n",
        "User Inquiry: the input question to answer\n",
        "Thought: carefully consider the next best step\n",
        "Action: choose from [{tool_names}]\n",
        "Action Input: input for the action\n",
        "Observation: result of the action\n",
        "... (repeat N times if necessary)\n",
        "Thought: I now know the final answer\n",
        "Final Answer: the final answer to the original inquiry\n",
        "\n",
        "Begin as a compassionate health guide.\n",
        "\n",
        "User Inquiry: {input}\n",
        "{agent_scratchpad}\"\"\""
      ]
    },
    {
      "cell_type": "markdown",
      "source": [
        "The code defines a custom output parser class that interprets responses generated by an LLM to determine the agent's next step. If a \"Final Answer\" is found, it concludes the process and provides the final response. Otherwise, it searches the response for the next \"Action\" and \"Action Input\" using regular expressions, returning the corresponding action or an error message if no valid action is detected."
      ],
      "metadata": {
        "id": "1zcLPuDBeaGt"
      }
    },
    {
      "cell_type": "code",
      "execution_count": 18,
      "metadata": {
        "id": "mogEXyBCcCnR"
      },
      "outputs": [],
      "source": [
        "# Custom Output Parser\n",
        "class CustomOutputParser(AgentOutputParser):\n",
        "    def parse(self, llm_output: str) -> Union[AgentAction, AgentFinish]:\n",
        "        if \"Final Answer:\" in llm_output:\n",
        "            return AgentFinish(return_values={\"output\": llm_output.split(\"Final Answer:\")[-1].strip()}, log=llm_output)\n",
        "\n",
        "        regex = r\"Action\\s*:\\s*(.*?)\\nAction\\s*Input\\s*:\\s*(.*)\"\n",
        "        match = re.search(regex, llm_output, re.DOTALL)\n",
        "        if not match:\n",
        "            return AgentFinish(\n",
        "                return_values={\"output\": \"I'm sorry, I couldn't determine the appropriate action. Please consult a healthcare provider for accurate information or rephrase your question.\"},\n",
        "                log=llm_output\n",
        "            )\n",
        "\n",
        "        action = match.group(1).strip()\n",
        "        action_input = match.group(2).strip()\n",
        "        return AgentAction(tool=action, tool_input=action_input.strip('\"'), log=llm_output)\n"
      ]
    },
    {
      "cell_type": "markdown",
      "source": [
        "We set up an AI agent that leverages a custom prompt template and output parser to handle health-related user queries. It initializes an OpenAI language model chain using the custom prompt, while the output parser ensures the correct interpretation of LLM responses. The agent, built with a single-action logic, is configured with specific tools it can utilize, and an executor with a memory buffer is created to maintain a context-aware conversation, remembering up to 10 past interactions for more consistent responses."
      ],
      "metadata": {
        "id": "xuVsPnmZexgG"
      }
    },
    {
      "cell_type": "code",
      "execution_count": 19,
      "metadata": {
        "colab": {
          "base_uri": "https://localhost:8080/"
        },
        "id": "5uda4HqIcCnR",
        "outputId": "e9301bd1-8d18-40bb-8f8d-01ff29fd70bb"
      },
      "outputs": [
        {
          "output_type": "stream",
          "name": "stderr",
          "text": [
            "/usr/local/lib/python3.10/dist-packages/langchain_core/_api/deprecation.py:119: LangChainDeprecationWarning: The class `OpenAI` was deprecated in LangChain 0.0.10 and will be removed in 0.3.0. An updated version of the class exists in the langchain-openai package and should be used instead. To use it run `pip install -U langchain-openai` and import as `from langchain_openai import OpenAI`.\n",
            "  warn_deprecated(\n",
            "/usr/local/lib/python3.10/dist-packages/langchain_core/_api/deprecation.py:119: LangChainDeprecationWarning: The class `LLMChain` was deprecated in LangChain 0.1.17 and will be removed in 0.3.0. Use RunnableSequence, e.g., `prompt | llm` instead.\n",
            "  warn_deprecated(\n",
            "/usr/local/lib/python3.10/dist-packages/langchain_core/_api/deprecation.py:119: LangChainDeprecationWarning: The class `LLMSingleActionAgent` was deprecated in LangChain 0.1.0 and will be removed in 0.2.0. Use Use new agent constructor methods like create_react_agent, create_json_agent, create_structured_chat_agent, etc. instead.\n",
            "  warn_deprecated(\n"
          ]
        }
      ],
      "source": [
        "# Creating an LLM Chain\n",
        "prompt = CustomPromptTemplate(template=template, tools=tools, input_variables=[\"input\", \"intermediate_steps\"])\n",
        "llm = OpenAI(temperature=0)\n",
        "llm_chain = LLMChain(llm=llm, prompt=prompt)\n",
        "\n",
        "# Create Agent\n",
        "output_parser = CustomOutputParser()\n",
        "tool_names = [tool.name for tool in tools]\n",
        "agent = LLMSingleActionAgent(\n",
        "    llm_chain=llm_chain,\n",
        "    output_parser=output_parser,\n",
        "    stop=[\"\\nObservation:\"],\n",
        "    allowed_tools=tool_names\n",
        ")\n",
        "\n",
        "# Agent Executor with Memory\n",
        "memory = ConversationBufferWindowMemory(k=10)\n",
        "agent_executor_mem = AgentExecutor.from_agent_and_tools(agent=agent, tools=tools, verbose=True, memory=memory)"
      ]
    },
    {
      "cell_type": "markdown",
      "source": [
        "The health_guide function takes user inputs (query, age, gender, and symptoms) and builds a detailed query by adding this contextual information. It then passes this information to the agent executor, which processes the query using the pre-configured agent logic and returns the response. If an error occurs during processing, it catches the exception and returns an error message advising the user to clarify their question or consult a healthcare provider."
      ],
      "metadata": {
        "id": "cCkjOBMpfd3h"
      }
    },
    {
      "cell_type": "code",
      "execution_count": 20,
      "metadata": {
        "id": "fMGvpXTFcCnS"
      },
      "outputs": [],
      "source": [
        "# Gradio Function\n",
        "def health_guide(query, age, gender, symptoms):\n",
        "    try:\n",
        "        # Including additional input details in the query for context\n",
        "        context_info = f\"Age: {age}, Gender: {gender}, Symptoms: {symptoms}\\n\"\n",
        "        return agent_executor_mem.run(input=context_info + query)\n",
        "    except Exception as e:\n",
        "        return f\"Error: {e}. Please ensure your question is clear, or consult a healthcare provider for guidance.\""
      ]
    },
    {
      "cell_type": "markdown",
      "source": [
        "It defines the input fields with a text box for the health question and symptoms, a slider for age, and a dropdown menu for gender. The output is displayed in a text box labeled \"Smart Health Guide Response,\" and the interface includes a disclaimer to consult a healthcare provider. The live mode ensures real-time updates, and share=True makes the interface publicly accessible while debug=True helps identify issues during use."
      ],
      "metadata": {
        "id": "G6bXZfIyf8mi"
      }
    },
    {
      "cell_type": "code",
      "execution_count": 21,
      "metadata": {
        "colab": {
          "base_uri": "https://localhost:8080/",
          "height": 1000
        },
        "id": "2CkGNWq6cCnS",
        "outputId": "dd58d59d-5002-46c0-d109-9177664d7c91"
      },
      "outputs": [
        {
          "output_type": "stream",
          "name": "stdout",
          "text": [
            "Setting queue=True in a Colab notebook requires sharing enabled. Setting `share=True` (you can turn this off by setting `share=False` in `launch()` explicitly).\n",
            "\n",
            "Colab notebook detected. This cell will run indefinitely so that you can see errors and logs. To turn off, set debug=False in launch().\n",
            "Running on public URL: https://537064d744a82b6006.gradio.live\n",
            "\n",
            "This share link expires in 72 hours. For free permanent hosting and GPU upgrades, run `gradio deploy` from Terminal to deploy to Spaces (https://huggingface.co/spaces)\n"
          ]
        },
        {
          "output_type": "display_data",
          "data": {
            "text/plain": [
              "<IPython.core.display.HTML object>"
            ],
            "text/html": [
              "<div><iframe src=\"https://537064d744a82b6006.gradio.live\" width=\"100%\" height=\"500\" allow=\"autoplay; camera; microphone; clipboard-read; clipboard-write;\" frameborder=\"0\" allowfullscreen></iframe></div>"
            ]
          },
          "metadata": {}
        },
        {
          "output_type": "stream",
          "name": "stderr",
          "text": [
            "/usr/local/lib/python3.10/dist-packages/langchain_core/_api/deprecation.py:119: LangChainDeprecationWarning: The method `Chain.run` was deprecated in langchain 0.1.0 and will be removed in 0.2.0. Use invoke instead.\n",
            "  warn_deprecated(\n"
          ]
        },
        {
          "output_type": "stream",
          "name": "stdout",
          "text": [
            "\n",
            "\n",
            "\u001b[1m> Entering new AgentExecutor chain...\u001b[0m\n",
            "\u001b[32;1m\u001b[1;3mThought: It's understandable that you're concerned about your health. Let's see if we can figure out what might be causing your symptoms.\n",
            "Action: General Health Search\n",
            "Action Input: \"Possible causes of fatigue and headaches\"\u001b[0m\n",
            "\n",
            "Observation:\u001b[36;1m\u001b[1;3mA headache and fatigue are often a symptom of something else — and it can be hard to narrow down or pinpoint the exact cause. \"Headache and fatigue are two different symptoms,\" says Dr. Vyas. Allergies, Hay Fever, and Fatigue. Symptoms: Fatigue, headache, itchiness, nasal congestion, and drainage. Allergic rhinitis is a common cause of chronic fatigue. But allergic rhinitis often can ... Stress. Stress can cause tight muscles in the shoulders and neck, which often leads to tension headaches. When tension headaches become frequent, the pain in shoulder and neck muscles is felt by the brain as pain in the head. Hunger itself can trigger a migraine or tension headache. But eating certain foods may trigger migraines. feel like a pulsing, throbbing, or tightening feeling. vary in intensity from mild to severe. Other symptoms can include: nausea or vomiting. sweating. sensitivity to lights, sounds, or smells. a ... Common Symptoms. Even though fatigue is a symptom of some underlying condition, it can still cause a combination of mental and physical symptoms, including: Weakness. Lack of energy. Constant tiredness or exhaustion. Lack of motivation. Difficulty with concentration. Difficulty starting and completing tasks.\u001b[0m\n",
            "\u001b[32;1m\u001b[1;3m It seems like there are a few different potential causes for your symptoms. It's important to note that fatigue and headaches can be symptoms of a variety of underlying conditions, so it's best to consult with a healthcare professional for a proper diagnosis. In the meantime, you can try to manage your symptoms by getting enough rest, staying hydrated, and practicing stress-reducing activities. It may also be helpful to keep track of your symptoms and any potential triggers to discuss with your doctor.\n",
            "Final Answer: It's best to consult with a healthcare professional for a proper diagnosis, as fatigue and headaches can be symptoms of a variety of underlying conditions. In the meantime, try to manage your symptoms by getting enough rest, staying hydrated, and practicing stress-reducing activities. Keep track of your symptoms and any potential triggers to discuss with your doctor.\u001b[0m\n",
            "\n",
            "\u001b[1m> Finished chain.\u001b[0m\n",
            "\n",
            "\n",
            "\u001b[1m> Entering new AgentExecutor chain...\u001b[0m\n",
            "\u001b[32;1m\u001b[1;3mThought: It seems like the user is experiencing some symptoms, but it's unclear what they are. I should ask for more information.\n",
            "Action: General Health Search\n",
            "Action Input: \"What symptoms are you experiencing?\"\u001b[0m\n",
            "\n",
            "Observation:\u001b[36;1m\u001b[1;3mAnyone can have symptoms at any intensity level. You don't have to have an underlying condition to develop severe symptoms. Common COVID-19 symptoms. The most common symptoms of COVID-19 include ... Critical COVID-19 illness means the lung and breathing system, called the respiratory system, has failed and there is damage throughout the body. Rarely, people who catch the coronavirus can develop a group of symptoms linked to inflamed organs or tissues. The illness is called multisystem inflammatory syndrome. The most common Covid symptoms haven't changed much since the start of the pandemic, and they remain consistent for the latest dominant variant, JN.1, said Dr. Soniya Gandhi, the associate chief ... COVID-19 is caused by infection with a coronavirus named SARS-CoV-2, and flu is caused by infection with influenza viruses. You cannot tell the difference between flu and COVID-19 by symptoms alone because some of the symptoms are the same. Some PCR tests can differentiate between flu and COVID-19 at the same time. experiencing depersonalization or derealization. Physical symptoms of anxiety may include: racing heart or chest pain. shortness of breath. sweating, hot flashes, or cold flashes. dizziness or ...\u001b[0m\n",
            "\u001b[32;1m\u001b[1;3mIt seems like the user may be experiencing symptoms related to anxiety. I should ask for more specific information about their symptoms and offer resources for managing anxiety.\n",
            "Action: General Health Search\n",
            "Action Input: \"Can you describe your symptoms in more detail?\"\u001b[0m\n",
            "\n",
            "Observation:\u001b[36;1m\u001b[1;3mApril 14, 2024 by A H M Ohidujjaman. ESL Students should be able to describe the basic symptoms of disease in English for seeking medical help. Teaching this involves providing relevant vocabulary and practice scenarios. Students struggle with describing symptoms due to limited vocabulary or grammar errors during real-life situations. A symptoms journal is a written record of your health symptoms. It includes information about flare-ups that you and your doctor can use to identify triggers and improve your quality of life. Up ... Critical COVID-19 illness means the lung and breathing system, called the respiratory system, has failed and there is damage throughout the body. Rarely, people who catch the coronavirus can develop a group of symptoms linked to inflamed organs or tissues. The illness is called multisystem inflammatory syndrome. This can be challenging to predict because everyone perceives \"normal\" in their own way. With MS, you may have periods of remission where your symptoms go away, and you feel more like yourself. You might even forget you have MS until symptoms flare up (return) again. This feeling of normalcy, and the degree of normalcy, can vary by type and ... Jessica Baity, MD. on January 18, 2024. Fatigue, pain, numbness, weakness: The symptoms of multiple sclerosis (MS) can feel overwhelming. And, because they tend to vary in severity and change over ...\u001b[0m\n",
            "\u001b[32;1m\u001b[1;3mBased on the information provided, it seems like the user may be experiencing symptoms related to multiple sclerosis. I should recommend that they speak with a doctor for a proper diagnosis and treatment plan.\n",
            "Final Answer: It is important to speak with a doctor about your symptoms to determine the underlying cause and receive proper treatment. In the meantime, you may find it helpful to keep a symptoms journal to track your symptoms and identify triggers. Additionally, practicing stress management techniques and seeking support from a therapist or support group may help with managing anxiety.\u001b[0m\n",
            "\n",
            "\u001b[1m> Finished chain.\u001b[0m\n",
            "\n",
            "\n",
            "\u001b[1m> Entering new AgentExecutor chain...\u001b[0m\n",
            "\u001b[32;1m\u001b[1;3mThought: It sounds like you may be concerned about the possibility of having Covid-19. I understand that this can be a scary and uncertain time, but please know that I am here to help guide you through this. \n",
            "Action: General Health Search\n",
            "Action Input: \"Covid-19 symptoms\"\u001b[0m\n",
            "\n",
            "Observation:\u001b[36;1m\u001b[1;3mLearn about the possible symptoms of COVID-19, which may appear 2-14 days after exposure to the virus. Find out when to call 911, how to differentiate between flu and COVID-19, and where to get tested. Learn about the common and rare symptoms of COVID-19, the illness caused by the SARS-CoV-2 virus. Find out how to prevent the spread of the virus and when to seek medical help. Learn about the common, emergency, and less common COVID-19 symptoms, and how to check for fever, cough, and loss of smell. Find out when to get tested, what treatments are available, and how to protect yourself and others. Learn how COVID-19 symptoms develop, last, and differ from flu. Find out when to contact a doctor and how to prevent or treat COVID-19. They include fatigue, sore throat, congestion, runny nose, headache, body aches and cough. \"All or any of those in isolation can still be Covid,\" Dr. Gandhi said. Some people may develop ...\u001b[0m\n",
            "\u001b[32;1m\u001b[1;3m Based on the information provided, it seems like you may be experiencing some of the common symptoms of Covid-19. It's important to monitor your symptoms and seek medical attention if they worsen or if you develop any emergency symptoms such as difficulty breathing or persistent chest pain. \n",
            "Final Answer: It is always best to err on the side of caution and get tested if you are experiencing any symptoms. Remember to continue practicing good hygiene and social distancing to help prevent the spread of the virus. Stay safe and take care of yourself.\u001b[0m\n",
            "\n",
            "\u001b[1m> Finished chain.\u001b[0m\n",
            "\n",
            "\n",
            "\u001b[1m> Entering new AgentExecutor chain...\u001b[0m\n",
            "\u001b[32;1m\u001b[1;3mThought: It sounds like you may be concerned about the possibility of having Covid-19. I understand that this can be a scary and uncertain time, but please know that you are not alone and there are resources available to help you.\n",
            "Action: General Health Search\n",
            "Action Input: \"Covid-19 symptoms and treatment\"\u001b[0m\n",
            "\n",
            "Observation:\u001b[36;1m\u001b[1;3mFor as long as COVID-19 symptoms get worse, stay home and apart from people who don't have COVID-19. That will help stop the spread of the virus. People with weakened immune systems may need to stay apart, also called isolate, for longer. ... Interim clinical considerations for COVID-19 treatment in outpatients. Centers for Disease Control and ... They include fatigue, sore throat, congestion, runny nose, headache, body aches and cough. \"All or any of those in isolation can still be Covid,\" Dr. Gandhi said. Some people may develop ... Seek health care promptly for testing and/or treatment if you have risk factors for severe illness; treatment may help lower your risk of severe illness. ... You cannot tell the difference between flu and COVID-19 by symptoms alone because some of the symptoms are the same. Some PCR tests can differentiate between flu and COVID-19 at the same time. If you have serious COVID-19 symptoms, you should get one of these treatments as soon as possible. COVID-19 SYMPTOM CHECKER Find Out if You Have Symptoms of Coronavirus (COVID-19) An altered sense of smell. Other symptoms of COVID-19, according to the CDC, include fever or chills, fatigue, and gastrointestinal issues such as nausea, vomiting, or diarrhea. Signs of severe ...\u001b[0m\n",
            "\u001b[32;1m\u001b[1;3mBased on the information from the General Health Search, it seems like the symptoms of Covid-19 can vary and may include fever, fatigue, and gastrointestinal issues. It's important to monitor your symptoms and seek medical attention if they worsen or if you have risk factors for severe illness.\n",
            "Final Answer: If you are experiencing symptoms of Covid-19, it is important to stay home and isolate from others to prevent the spread of the virus. Seek medical attention if your symptoms worsen or if you have risk factors for severe illness.\u001b[0m\n",
            "\n",
            "\u001b[1m> Finished chain.\u001b[0m\n",
            "\n",
            "\n",
            "\u001b[1m> Entering new AgentExecutor chain...\u001b[0m\n",
            "\u001b[32;1m\u001b[1;3mThought: It sounds like you may be concerned about the possibility of having Covid-19. I understand that this can be a scary and uncertain time, but please know that you are not alone. Let's take a look at some resources that can help you better understand your symptoms and determine the best course of action.\n",
            "Action: General Health Search\n",
            "Action Input: \"Covid-19 symptoms\"\u001b[0m\n",
            "\n",
            "Observation:\u001b[36;1m\u001b[1;3mLearn about the possible symptoms of COVID-19, which may appear 2-14 days after exposure to the virus. Find out when to call 911, how to differentiate between flu and COVID-19, and where to get tested. Learn about the common and rare symptoms of COVID-19, the illness caused by the SARS-CoV-2 virus. Find out how to prevent the spread of the virus and when to seek medical help. Learn about the common, emergency, and less common COVID-19 symptoms, and how to check for fever, cough, and loss of smell. Find out when to get tested, what treatments are available, and how to protect yourself and others. Learn how COVID-19 symptoms develop, last, and differ from flu. Find out when to contact a doctor and how to prevent or treat COVID-19. They include fatigue, sore throat, congestion, runny nose, headache, body aches and cough. \"All or any of those in isolation can still be Covid,\" Dr. Gandhi said. Some people may develop ...\u001b[0m\n",
            "\u001b[32;1m\u001b[1;3mBased on the information provided, it seems like you may be experiencing some of the common symptoms of Covid-19. It's important to remember that these symptoms can also be caused by other illnesses, so it's best to consult with a healthcare professional for a proper diagnosis.\n",
            "Final Answer: It's always better to err on the side of caution when it comes to your health. I recommend reaching out to your doctor or a local health clinic for guidance on next steps and to schedule a Covid-19 test if necessary. In the meantime, continue to monitor your symptoms and take precautions to prevent the spread of the virus. Stay safe and take care.\u001b[0m\n",
            "\n",
            "\u001b[1m> Finished chain.\u001b[0m\n",
            "\n",
            "\n",
            "\u001b[1m> Entering new AgentExecutor chain...\u001b[0m\n",
            "\u001b[32;1m\u001b[1;3mThought: It sounds like you may be experiencing some difficulty breathing. I'm sorry to hear that. It's important to take care of your health, especially during these uncertain times.\n",
            "Action: General Health Search\n",
            "Action Input: \"Difficulty breathing\"\u001b[0m\n",
            "\n",
            "Observation:\u001b[36;1m\u001b[1;3mDyspnea, also known as shortness of breath, is a sign of a health problem that needs attention. Learn about the common causes, diagnosis, and treatment of dyspnea, and when to see a doctor or go to the ER. Dyspnea is the medical term for shortness of breath, which can be a symptom of various health conditions, such as heart or lung disease. Learn about the possible causes, symptoms, diagnosis, treatment and prevention of dyspnea, and when to seek medical attention. Breathing trouble is one of the most common reasons people seek help at a hospital emergency room. In the U.S., up to 4 million emergency room visits every year involve shortness of breath. Prevention. Dyspnea is shortness of breath that is often described as a feeling of being \"hungry for air.\" Anyone can become dyspneic with strenuous exercise, and it can also occur as a result of medical problems like lung or heart disease, obesity, or anxiety. Dyspnea is uncomfortable and it can even be painful. Breathing. Most cases of shortness of breath are due to heart or lung conditions. Your heart and lungs are involved in transporting oxygen to your tissues and removing carbon dioxide, and problems with either of these processes affect your breathing.\u001b[0m\n",
            "\u001b[32;1m\u001b[1;3mBased on your symptoms, it seems like you may be experiencing dyspnea. It's important to seek medical attention if you are having difficulty breathing, as it can be a sign of a serious health problem. \n",
            "Final Answer: It is recommended that you consult with a doctor to determine the cause of your dyspnea and receive proper treatment. In the meantime, try to rest and avoid strenuous activities. If your symptoms worsen or you experience chest pain, seek immediate medical attention. Take care of yourself and stay safe during this time.\u001b[0m\n",
            "\n",
            "\u001b[1m> Finished chain.\u001b[0m\n",
            "\n",
            "\n",
            "\u001b[1m> Entering new AgentExecutor chain...\u001b[0m\n",
            "\u001b[32;1m\u001b[1;3mThought: It sounds like you may be experiencing some difficulty with your breathing. I'm sorry to hear that. Let's see if we can find some helpful information for you.\n",
            "Action: General Health Search\n",
            "Action Input: \"Breathing problems in men\"\u001b[0m\n",
            "\n",
            "Observation:\u001b[36;1m\u001b[1;3m1. Deep breathing. Breathing in deeply through the abdomen can help manage breathlessness. To try deep breathing at home, people can: Lie down and place the hands on the abdomen. Breathe in deeply ... Coughing. It can be acute (sudden dyspnea) or chronic (long-lasting dyspnea). Acute dyspnea starts within a few minutes or hours. It can happen with other symptoms like a fever, rash, or cough ... Pollen, mold, and other allergens do more than cause itchy eyes and a runny nose. They can also irritate the airways in your lungs. This can trigger an asthma attack and make it hard for you to ... Cystic Fibrosis. Lung Cancer. Tuberculosis. Bronchitis. Pneumonia. The most common respiratory diseases are asthma, chronic obstructive pulmonary disease, cystic fibrosis, lung cancer, tuberculosis, bronchitis, and pneumonia. Some respiratory diseases are acute, like an infection that will get better with treatment, while others are or become ... Breathing. Most cases of shortness of breath are due to heart or lung conditions. Your heart and lungs are involved in transporting oxygen to your tissues and removing carbon dioxide, and problems with either of these processes affect your breathing.\u001b[0m\n",
            "\u001b[32;1m\u001b[1;3m It looks like there are a few potential causes for breathing problems in men. It's important to note that these are just general suggestions and it's always best to consult with a doctor for a proper diagnosis and treatment plan.\n",
            "Final Answer: Based on the information provided, it's possible that you may be experiencing breathing problems due to a respiratory disease such as asthma, chronic obstructive pulmonary disease, or even lung cancer. It's important to seek medical advice to determine the underlying cause and receive proper treatment.\u001b[0m\n",
            "\n",
            "\u001b[1m> Finished chain.\u001b[0m\n",
            "\n",
            "\n",
            "\u001b[1m> Entering new AgentExecutor chain...\u001b[0m\n",
            "\u001b[32;1m\u001b[1;3mThought: Based on the user's age and symptoms, it is important to consider the possibility of Covid-19.\n",
            "Action: General Health Search\n",
            "Action Input: \"Covid-19 symptoms and treatment\"\u001b[0m\n",
            "\n",
            "Observation:\u001b[36;1m\u001b[1;3mFor as long as COVID-19 symptoms get worse, stay home and apart from people who don't have COVID-19. That will help stop the spread of the virus. People with weakened immune systems may need to stay apart, also called isolate, for longer. ... Interim clinical considerations for COVID-19 treatment in outpatients. Centers for Disease Control and ... Critical COVID-19 illness means the lung and breathing system, called the respiratory system, has failed and there is damage throughout the body. Rarely, people who catch the coronavirus can develop a group of symptoms linked to inflamed organs or tissues. The illness is called multisystem inflammatory syndrome. Coronavirus disease 2019 (COVID-19) is an illness caused by the virus SARS-CoV-2. Learn more about the symptoms, risks and ways to protect yourself. ... Study finds few COVID-19 patients get rebound symptoms after Paxlovid treatment June 14, 2022, 10:06 a.m. CDT; Mayo Clinic Minute: What to expect with COVID-19 vaccinations for youngest kids ... They include fatigue, sore throat, congestion, runny nose, headache, body aches and cough. \"All or any of those in isolation can still be Covid,\" Dr. Gandhi said. Some people may develop ... Seek health care promptly for testing and/or treatment if you have risk factors for severe illness; treatment may help lower your risk of severe illness. ... You cannot tell the difference between flu and COVID-19 by symptoms alone because some of the symptoms are the same. Some PCR tests can differentiate between flu and COVID-19 at the same time.\u001b[0m\n",
            "\u001b[32;1m\u001b[1;3m After searching for information on Covid-19 symptoms and treatment, it is clear that the user should seek medical attention promptly for testing and treatment. It is important to stay home and isolate from others to prevent the spread of the virus.\n",
            "Final Answer: Based on the user's age, gender, and symptoms, it is recommended to seek medical attention for Covid-19 testing and treatment. It is also important to stay home and isolate from others to prevent the spread of the virus.\u001b[0m\n",
            "\n",
            "\u001b[1m> Finished chain.\u001b[0m\n",
            "\n",
            "\n",
            "\u001b[1m> Entering new AgentExecutor chain...\u001b[0m\n",
            "\u001b[32;1m\u001b[1;3mThought: It sounds like you may be concerned about potentially having Covid-19. I understand that this can be a scary and uncertain time, but please know that I am here to help guide you through this. \n",
            "Action: General Health Search\n",
            "Action Input: Covid-19 symptoms\u001b[0m\n",
            "\n",
            "Observation:\u001b[36;1m\u001b[1;3mLearn about the possible symptoms of COVID-19, which may appear 2-14 days after exposure to the virus. Find out when to call 911, how to differentiate between flu and COVID-19, and where to get tested. Learn about the common and rare symptoms of COVID-19, the illness caused by the SARS-CoV-2 virus. Find out how to prevent the spread of the virus and when to seek medical help. Learn about the common, emergency, and less common COVID-19 symptoms, and how to check for fever, cough, and loss of smell. Find out when to get tested, what treatments are available, and how to protect yourself and others. Learn how COVID-19 symptoms develop, last, and differ from flu. Find out when to contact a doctor and how to prevent or treat COVID-19. They include fatigue, sore throat, congestion, runny nose, headache, body aches and cough. \"All or any of those in isolation can still be Covid,\" Dr. Gandhi said. Some people may develop ...\u001b[0m\n",
            "\u001b[32;1m\u001b[1;3m Based on the information provided, it seems like you may be experiencing some of the common symptoms of Covid-19. It's important to monitor your symptoms and seek medical attention if they worsen or if you develop any emergency symptoms such as difficulty breathing or persistent chest pain. \n",
            "Final Answer: If you are concerned about your symptoms, it is best to contact your healthcare provider for further guidance and to get tested for Covid-19. Remember to continue practicing good hygiene and social distancing to help prevent the spread of the virus. Take care of yourself and stay safe.\u001b[0m\n",
            "\n",
            "\u001b[1m> Finished chain.\u001b[0m\n",
            "\n",
            "\n",
            "\u001b[1m> Entering new AgentExecutor chain...\u001b[0m\n",
            "\u001b[32;1m\u001b[1;3mThought: It is understandable that you are concerned about Covid-19, especially with a young child. Let's see what information we can find to help ease your worries.\n",
            "Action: General Health Search\n",
            "Action Input: \"Covid-19 in children\"\u001b[0m\n",
            "\n",
            "Observation:\u001b[36;1m\u001b[1;3mMultisystem inflammatory syndrome in children (MIS-C) is a serious condition linked to infection with the virus that causes COVID-19. With MIS-C, children have fever, blood markers of inflammation and serious disease throughout the body. Organs such as the brain, eyes, heart, lungs, kidneys, digestive system and skin may become inflamed. The COVID-19 vaccines available in the United States are: 2023-2024 Pfizer-BioNTech COVID-19 vaccine. This vaccine is available for people age 6 months and older. Among people with a typical immune system: Children age 6 months up to age 4 years are up to date after three doses of a Pfizer-BioNTech COVID-19 vaccine. The Panel's recommendations for the management of children with COVID-19 or MIS-C are summarized in the tables below. Table 3a provides recommendations for the therapeutic management of nonhospitalized children with COVID-19. The Panel's recommendations are stratified by age (per the Food and Drug Administration Emergency Use Authorizations ... COVID-19 vaccination for children is important. COVID-19 vaccines help keep children from getting really sick from COVID-19. Your child can get the COVID-19 vaccine even if they already have other medical conditions. Children who have already had COVID-19 should still get vaccinated. COVID-19 vaccination helps keep children safer in school. A Phase 2/3, single-arm, open-label study evaluated the safety, tolerability, and pharmacokinetics of remdesivir in 53 hospitalized children with COVID-19. 22 Children weighing 3 to <40 kg received remdesivir 5 mg/kg on Day 1, followed by remdesivir 2.5 mg/kg daily. Adverse events included acute kidney injury (11%) and an increase in alanine ...\u001b[0m\n",
            "\u001b[32;1m\u001b[1;3m It seems like there is a lot of information available about Covid-19 in children. It's important to note that while children can still get Covid-19, they are less likely to experience severe symptoms compared to adults. However, it's still important to take precautions and follow guidelines to protect your child's health.\n",
            "Final Answer: Based on the information available, it is recommended that children receive the Covid-19 vaccine to help prevent severe illness and protect their health. It is also important to continue following safety measures such as wearing masks and practicing social distancing to further reduce the risk of infection. If your child does experience symptoms, it is important to seek medical attention and follow the recommended treatment guidelines.\u001b[0m\n",
            "\n",
            "\u001b[1m> Finished chain.\u001b[0m\n",
            "\n",
            "\n",
            "\u001b[1m> Entering new AgentExecutor chain...\u001b[0m\n",
            "\u001b[32;1m\u001b[1;3mThought: It's understandable that you're feeling anxious and stressed. It's important to take care of your mental health just as much as your physical health. Let's see what we can find to help you manage your stress.\n",
            "Action: General Health Search\n",
            "Action Input: \"Stress management techniques\"\u001b[0m\n",
            "\n",
            "Observation:\u001b[36;1m\u001b[1;3mLearn how to cope with stress in the short and long term with these tips and techniques. From guided imagery and meditation to exercise and social support, find out what works best for you. Learn how to cope with stress and prevent burnout with science-based strategies, exercises and worksheets. Find out what stress and burnout are, how they affect your health and wellbeing, and how to reduce their impact with positive psychology. Learn how to cope with stress with physical activity, healthy diet, meditation, laughter, social contact, assertiveness, yoga and sleep. Find out how stress can affect your health and well-being, and what you can do to manage it. Learn effective stress management tips and techniques to cope with stress at work and home. Find out how to identify the sources of stress, cut out unhealthy habits, practice the 4 A's, and more. Learn how stress affects your body and mind, and how to cope with it using relaxation techniques, products and services. Find out how to reset and recalibrate your alarm system with Mayo Clinic's expert advice and resources.\u001b[0m\n",
            "\u001b[32;1m\u001b[1;3mThere are many different techniques and strategies for managing stress. It's important to find what works best for you and to practice them regularly.\n",
            "Final Answer: Some common practices for managing stress include guided imagery, meditation, exercise, social support, healthy diet, laughter, and sleep. It's also important to identify the sources of stress and practice healthy habits to reduce its impact. Remember to take care of your mental health and find what works best for you.\u001b[0m\n",
            "\n",
            "\u001b[1m> Finished chain.\u001b[0m\n",
            "\n",
            "\n",
            "\u001b[1m> Entering new AgentExecutor chain...\u001b[0m\n",
            "\u001b[32;1m\u001b[1;3mThought: Hello there, I am here to help you with any health concerns you may have. I understand that you have not provided any specific symptoms, but I am here to listen and provide guidance.\n",
            "Action: General Health Search\n",
            "Action Input: None\u001b[0m\n",
            "\n",
            "Observation:\u001b[36;1m\u001b[1;3mScholars of religion in the U.S. have been using the term \"nones\" since at least the 1960s, and its use has grown common in social scientific journals and the media. 1. In our latest data, 17% of \"nones\" identify as atheist, 20% say they are agnostic and 63% choose \"nothing in particular.\". Atheists and agnostics, on average, have ... None Can Be Both Singular and Plural. If none is used as a singular, then none are is incorrect. But there are some instances when none is a plural. Singular uses for none include \"not one is\" or \"no single one.\" However, none can also be plural. In that case, it means \"not one of them \"or \"not one of any.\" None: Meaning: Means not one, not any, or not at all. It can refer to people, but it is also applicable to things or amounts. Context: Used more broadly than \"no one.\". It can apply to groups of people, quantities, or elements in a set. Example (people): \" None of those present raised their hand.\". Example (things): \"I wanted cookies ... The meaning of NONE OF THE ABOVE is not any of the choices listed above. How to use none of the above in a sentence. The meaning of NONE OTHER THAN is —used to show that one is surprised or impressed by the person or thing one is about to mention. How to use none other than in a sentence.\u001b[0m\n",
            "\u001b[32;1m\u001b[1;3mBased on the information provided, it seems like you may be experiencing some confusion or uncertainty about your beliefs or identity. It is completely normal to question these things, especially at a young age. I would recommend seeking guidance from a trusted adult or counselor to help you navigate these thoughts and feelings. In the meantime, you can use the General Health Search tool to learn more about the concept of \"nones\" and how it may relate to your situation.\n",
            "Final Answer: It is important to take care of your mental and emotional well-being, and seeking support from others can be a helpful step in doing so. Remember, it is okay to not have all the answers right now and to take time to figure things out.\u001b[0m\n",
            "\n",
            "\u001b[1m> Finished chain.\u001b[0m\n",
            "\n",
            "\n",
            "\u001b[1m> Entering new AgentExecutor chain...\u001b[0m\n",
            "\u001b[32;1m\u001b[1;3mThought: It's great that you are taking steps to manage your high blood pressure. A balanced diet is an important part of maintaining overall health and managing blood pressure. Let's see what information we can find to help you.\n",
            "\n",
            "Action: General Health Search\n",
            "Action Input: Balanced diet for high blood pressure\u001b[0m\n",
            "\n",
            "Observation:\u001b[36;1m\u001b[1;3mHigh blood pressure and high LDL cholesterol levels are two major risk factors for heart disease and stroke.. Foods in the DASH diet are rich in the minerals potassium, calcium and magnesium. The DASH diet focuses on vegetables, fruits and whole grains. It includes fat-free or low-fat dairy products, fish, poultry, beans and nuts. The diet limits foods that are high in salt, also called sodium. Fats and oils: 2-3 daily servings (1 teaspoon vegetable oil or soft margarine, 1 tablespoon low-fat mayonnaise, 2 tablespoons light salad dressing) Sweets: less than 5 servings per week. (1 ... Including certain foods in your diet, especially ones in potassium and magnesium, may help lower your blood pressure levels ( 1, 3 ). Here are the 17 best foods for high blood pressure. 1. Citrus ... Dietary and lifestyle choices can help manage high blood pressure. A balanced diet focusing on moderate intakes of fruits, vegetables, oats, nuts, lentils, herbs, and spices can be beneficial. In ... To Make it 1,200 Calories: Omit the walnuts at breakfast and change the P.M. snack to 1/4 cup sliced cucumbers. To Make it 2,000 Calories: Increase to 4 Tbsp. chopped walnuts at breakfast plus add 1/3 cup dry-roasted unsalted almonds to A.M. snack and 1/3 cup dried walnut halves to P.M. snack.\u001b[0m\n",
            "\u001b[32;1m\u001b[1;3mIt seems like the DASH diet is a good option for someone with high blood pressure. It includes a variety of healthy foods and limits salt and sweets. Let's see if we can find more information on how to follow this diet.\n",
            "\n",
            "Action: General Health Search\n",
            "Action Input: How to follow the DASH diet\u001b[0m\n",
            "\n",
            "Observation:\u001b[36;1m\u001b[1;3mThe foods at the center of the DASH diet are low in salt. So following the DASH diet is likely to lower salt intake. To further reduce salt: Read food labels and choose low-salt or no-salt-added options. Use salt-free spices or flavorings instead of salt. Don't add salt when cooking rice, pasta or hot cereal. Choose plain fresh or frozen ... When you follow the DASH diet, you consume higher amounts of potassium — a heart-healthy mineral. You also consume less sodium, which can help lower your blood pressure and improve heart health. The DASH diet generally emphasizes a high intake of fruits, vegetables, low-fat or nonfat dairy, nuts, seeds, lentils, beans, and whole grains. It limits the consumption of red and processed meat, sweets, soda, and sodium (salt). This article will explore the ins and outs of the DASH diet, including its health benefits and how it compares to ... When following the DASH diet, it's best to eliminate or cut down on processed foods, as well as those that are high in fat, salt, or sugar. Avoid fatty meats, and don't forget to cut back on ... Dinner (412 calories) 1 serving Chicken Chili with Sweet Potatoes. 1/4 avocado, diced. 1 Tbsp. nonfat plain Greek yogurt. Top chili with avocado and yogurt. Meal-Prep Tip: Save 1 1/2 cups of the chili for lunch on Day 7. Daily Totals: 1,226 calories, 50 g protein, 166 g carbohydrates, 31 g fiber, 42 g fat, 1,322 mg sodium.\u001b[0m\n",
            "\u001b[32;1m\u001b[1;3mIt looks like there are some specific tips for following the DASH diet, such as reading food labels and choosing low-salt options. It's also important to limit processed foods and focus on whole, healthy foods. Let's see if we can find any more information on how to incorporate this diet into your daily life.\n",
            "\n",
            "Action: General Health Search\n",
            "Action Input: Incorporating the DASH diet into daily life\u001b[0m\n",
            "\n",
            "Observation:\u001b[36;1m\u001b[1;3mInstead, DASH recommends incorporating heart-healthy foods into your daily life. Foods to eat on DASH The DASH diet focuses on eating heart-healthy foods that you can find in your grocery store. The diet limits the following: Fatty meats, such as beef, pork and lamb. Full-fat dairy products. Tropical oils, such as coconut and palm oils. Sweets and sugar-sweetened drinks. To help you get started with the DASH diet eating plan, here are three days of menus based on the DASH diet. Use these menus as a basis for your own healthy meal planning. The DASH diet generally emphasizes a high intake of fruits, vegetables, low-fat or nonfat dairy, nuts, seeds, lentils, beans, and whole grains. It limits the consumption of red and processed meat, sweets, soda, and sodium (salt). This article will explore the ins and outs of the DASH diet, including its health benefits and how it compares to ... Discover the DASH diet - a way to lower blood pressure and improve overall health. Learn guidelines, benefits, and practical tips for success. ... Now that we've uncovered the key elements of the DASH diet eating plan and discovered practical ways to incorporate it into your daily life let's dive into its benefits. Lowering blood pressure ... One popular eating plan that has gained recognition for its numerous health benefits is the DASH diet. In this article, we will explore the ins and outs of the DASH diet, including its principles, benefits, and how to incorporate it into your daily life. So, let's dive in and discover how the DASH diet can transform your eating habits and ...\u001b[0m\n",
            "\u001b[32;1m\u001b[1;3mIt seems like there are many resources available for incorporating the DASH diet into daily life. It's important to focus on heart-healthy foods and limit certain foods that can contribute to high blood pressure. I hope this information helps you make positive changes to your diet and manage your high blood pressure.\u001b[0m\n",
            "\n",
            "\u001b[1m> Finished chain.\u001b[0m\n",
            "Keyboard interruption in main thread... closing server.\n",
            "Killing tunnel 127.0.0.1:7860 <> https://537064d744a82b6006.gradio.live\n"
          ]
        },
        {
          "output_type": "execute_result",
          "data": {
            "text/plain": []
          },
          "metadata": {},
          "execution_count": 21
        }
      ],
      "source": [
        "# Updated Gradio Interface\n",
        "interface = gr.Interface(\n",
        "    fn=health_guide,\n",
        "    inputs=[\n",
        "        gr.Textbox(lines=2, placeholder=\"Ask your health question here...\", label=\"Health Question\"),\n",
        "        gr.Slider(0, 120, step=1, label=\"Age\"),\n",
        "        gr.Dropdown(choices=[\"Male\", \"Female\", \"Non-binary\", \"Other\"], label=\"Gender\"),\n",
        "        gr.Textbox(lines=2, placeholder=\"Describe your symptoms here...\", label=\"Symptoms\")\n",
        "    ],\n",
        "    outputs=gr.Textbox(label=\"Smart Health Guide Response\"),\n",
        "    title=\"Smart Health Guide\",\n",
        "    description=\"\"\"Disclaimer: This guide is for informational purposes only.\n",
        "                    Always consult a healthcare provider for proper diagnosis and treatment.\"\"\",\n",
        "    live=True\n",
        ")\n",
        "\n",
        "# Launch Gradio Interface\n",
        "interface.launch( debug=True)"
      ]
    },
    {
      "cell_type": "markdown",
      "source": [],
      "metadata": {
        "id": "1k13tXdlKGtV"
      }
    },
    {
      "cell_type": "code",
      "execution_count": 21,
      "metadata": {
        "id": "OqrgI7SHcCnS"
      },
      "outputs": [],
      "source": []
    },
    {
      "cell_type": "code",
      "execution_count": 21,
      "metadata": {
        "id": "YnepE16EcCnS"
      },
      "outputs": [],
      "source": []
    }
  ],
  "metadata": {
    "colab": {
      "provenance": []
    },
    "kernelspec": {
      "display_name": "Python 3 (ipykernel)",
      "language": "python",
      "name": "python3"
    },
    "language_info": {
      "codemirror_mode": {
        "name": "ipython",
        "version": 3
      },
      "file_extension": ".py",
      "mimetype": "text/x-python",
      "name": "python",
      "nbconvert_exporter": "python",
      "pygments_lexer": "ipython3",
      "version": "3.9.13"
    }
  },
  "nbformat": 4,
  "nbformat_minor": 0
}